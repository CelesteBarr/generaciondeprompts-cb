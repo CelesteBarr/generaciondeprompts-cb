{
 "cells": [
  {
   "cell_type": "markdown",
   "id": "c5d8eb0f-683a-42b4-81f8-8cefdb5e2377",
   "metadata": {},
   "source": [
    "# Few Shoot Prompting "
   ]
  },
  {
   "cell_type": "markdown",
   "id": "7222c4c1-e374-437a-9123-bba5d7c20d3d",
   "metadata": {},
   "source": [
    "Un \"few-shot prompting\" se refiere a la práctica de proporcionar solo algunas interacciones o ejemplos de entrada para obtener una respuesta del modelo de lenguaje. En lugar de interactuar en una conversación continua, donde se envían múltiples mensajes de ida y vuelta entre el usuario y el modelo, con el \"few-shot prompting\", se intenta condensar la información necesaria en unas pocas solicitudes para obtener la respuesta deseada."
   ]
  },
  {
   "cell_type": "markdown",
   "id": "b72d6510-92bc-4de4-9e11-21324c5d896d",
   "metadata": {},
   "source": [
    "#### Lab"
   ]
  },
  {
   "cell_type": "markdown",
   "id": "f48d1e4f-5bf0-4291-9f10-e4fa452dfee6",
   "metadata": {},
   "source": [
    "1. Import openAI dependences (load with conda install openai)"
   ]
  },
  {
   "cell_type": "code",
   "execution_count": 3,
   "id": "6f5e6bba-f9b0-4d27-a0c2-ceede346e2fd",
   "metadata": {
    "scrolled": true
   },
   "outputs": [],
   "source": [
    "\n",
    "#Import openAI dependences (module)\n",
    "import openai"
   ]
  },
  {
   "cell_type": "markdown",
   "id": "6180968b-5de0-4e1d-91e1-bb0607b62ebe",
   "metadata": {},
   "source": [
    "2. Use the API Key from openAI page"
   ]
  },
  {
   "cell_type": "code",
   "execution_count": 4,
   "id": "aaa13f6c-6aee-4ddd-92b7-33dbbf66ea3c",
   "metadata": {},
   "outputs": [],
   "source": [
    "#Add our API Key copied from openAI page\n",
    "openai.api_key = \"\" 
   ]
  },
  {
   "cell_type": "markdown",
   "id": "133396b5-0a78-4b9a-a1c0-8c81d7744f9b",
   "metadata": {},
   "source": [
    "3.1 Make a request (Model to analyze stories)"
   ]
  },
  {
   "cell_type": "code",
   "execution_count": 9,
   "id": "f7c1fc76-a9ea-4df9-9324-d83bba8bfc0c",
   "metadata": {
    "scrolled": true
   },
   "outputs": [
    {
     "name": "stdout",
     "output_type": "stream",
     "text": [
      "Escribe una historia: #  'Ibe "sklpper", about thirty-four, Academy graduate,
rank of captain. Clearly the leading man and central
character. 
Captain April will be the focus of many stories.
A colorfully complex personality, he is capable or
action and decision which can verge on the heroic -·
and at the same time 1ives a continual battle with
self-doubt and the loneliness of command.
alien aswell as human, must continually
f1ght the temptat1on to risk many to save one.
     ]
    },
    {
     "name": "stdout",
     "output_type": "stream",
     "text": [
     
   ]
  },
  {
   "cell_type": "code",
   "execution_count": null,
   "id": "e99b85c3-6d02-4dbb-af94-8da6c7565abb",
   "metadata": {},
   "outputs": [],
   "source": []
  }
 ],
 "metadata": {
  "kernelspec": {
   "display_name": "Python 3 (ipykernel)",
   "language": "python",
   "name": "python3"
  },
  "language_info": {
   "codemirror_mode": {
    "name": "ipython",
    "version": 3
   },
   "file_extension": ".py",
   "mimetype": "text/x-python",
   "name": "python",
   "nbconvert_exporter": "python",
   "pygments_lexer": "ipython3",
   "version": "3.10.13"
  }
 },
 "nbformat": 4,
 "nbformat_minor": 5
}
